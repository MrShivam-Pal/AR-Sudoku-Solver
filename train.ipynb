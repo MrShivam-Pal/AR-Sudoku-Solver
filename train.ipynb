{
  "cells": [
    {
      "cell_type": "code",
      "execution_count": 1,
      "metadata": {
        "id": "2pD0Y4-LO6vM"
      },
      "outputs": [],
      "source": [
        "import numpy as np\n",
        "import matplotlib.pyplot as plt\n",
        "import os\n",
        "import cv2\n",
        "import keras\n",
        "from sklearn.model_selection import train_test_split\n",
        "from keras.preprocessing.image import ImageDataGenerator\n",
        "from keras.utils import to_categorical\n",
        "from keras import layers, models\n",
        "from keras.models import Sequential\n",
        "from keras.optimizers import Adam\n",
        "from keras.layers import Dropout,Flatten , Conv2D,MaxPooling2D , Dense"
      ]
    },
    {
      "cell_type": "code",
      "execution_count": null,
      "metadata": {
        "colab": {
          "base_uri": "https://localhost:8080/"
        },
        "id": "Sl_xIDKQQN9K",
        "outputId": "89ff2b52-4aa0-40ee-e6fb-63216fd5eb04"
      },
      "outputs": [
        {
          "name": "stdout",
          "output_type": "stream",
          "text": [
            "Mounted at /content/drive\n"
          ]
        }
      ],
      "source": [
        "from google.colab import drive\n",
        "drive.mount('/content/drive')"
      ]
    },
    {
      "cell_type": "markdown",
      "metadata": {
        "id": "B6RYw5V7O6vQ"
      },
      "source": [
        "#### Loading the dataset"
      ]
    },
    {
      "cell_type": "code",
      "execution_count": null,
      "metadata": {
        "colab": {
          "background_save": true
        },
        "id": "KOygOUHWO6vR",
        "outputId": "f614e42a-e370-41cf-89a0-8e0579417d46"
      },
      "outputs": [
        {
          "name": "stdout",
          "output_type": "stream",
          "text": [
            "Total Dataponits =  10161\n"
          ]
        }
      ],
      "source": [
        "base = \"/content/drive/MyDrive/Character_Recognition/0-9_image/\"\n",
        "\n",
        "data = os.listdir(base)\n",
        "data_X = []\n",
        "data_y = []\n",
        "data_classes = len(data)\n",
        "for i in range (1, data_classes+1):\n",
        "    data_list = os.listdir( base + \"Sample\" + str(i).zfill(3))\n",
        "    for j in data_list:\n",
        "        pic = cv2.imread( base  + \"Sample\" + str(i).zfill(3) +\"/\"+j)\n",
        "        pic = cv2.resize(pic, (32, 32))\n",
        "        data_X.append(pic)\n",
        "        data_y.append(i-1)\n",
        "\n",
        "if len(data_X) == len(data_y) :\n",
        "    print(\"Total Dataponits = \",len(data_X))\n",
        "data_X = np.array(data_X)\n",
        "data_y = np.array(data_y)"
      ]
    },
    {
      "cell_type": "code",
      "execution_count": null,
      "metadata": {
        "colab": {
          "base_uri": "https://localhost:8080/"
        },
        "id": "hcJyrHvqO6vS",
        "outputId": "83d0aa74-adad-4857-9e51-42e65d927377"
      },
      "outputs": [
        {
          "name": "stdout",
          "output_type": "stream",
          "text": [
            "Training Set Shape =  (7721, 32, 32, 3)\n",
            "Validation Set Shape =  (1931, 32, 32, 3)\n",
            "Test Set Shape =  (509, 32, 32, 3)\n"
          ]
        }
      ],
      "source": [
        "train_X, test_X, train_y, test_y = train_test_split(data_X,data_y,test_size=0.05)\n",
        "train_X, valid_X, train_y, valid_y = train_test_split(train_X,train_y,test_size=0.2)\n",
        "print(\"Training Set Shape = \",train_X.shape)\n",
        "print(\"Validation Set Shape = \",valid_X.shape)\n",
        "print(\"Test Set Shape = \",test_X.shape)"
      ]
    },
    {
      "cell_type": "markdown",
      "metadata": {
        "id": "3wZhOk0lO6vS"
      },
      "source": [
        "#### Preprocessing"
      ]
    },
    {
      "cell_type": "code",
      "execution_count": null,
      "metadata": {
        "id": "VEwyb99hO6vS"
      },
      "outputs": [],
      "source": [
        "def Prep(img):\n",
        "    img = cv2.cvtColor(img, cv2.COLOR_BGR2GRAY) #making image grayscale\n",
        "    img = cv2.equalizeHist(img) #Histogram equalization to enhance contrast\n",
        "    img = img/255 #normalizing\n",
        "    return img"
      ]
    },
    {
      "cell_type": "code",
      "execution_count": null,
      "metadata": {
        "id": "UwqgSqG6O6vT"
      },
      "outputs": [],
      "source": [
        "train_X = np.array(list(map(Prep, train_X)))\n",
        "test_X = np.array(list(map(Prep, test_X)))\n",
        "valid_X= np.array(list(map(Prep, valid_X)))\n",
        "#Reshaping the images\n",
        "train_X = train_X.reshape(train_X.shape[0], train_X.shape[1], train_X.shape[2],1)\n",
        "test_X = test_X.reshape(test_X.shape[0], test_X.shape[1], test_X.shape[2],1)\n",
        "valid_X = valid_X.reshape(valid_X.shape[0], valid_X.shape[1], valid_X.shape[2],1)\n",
        "#Augmentation\n",
        "datagen = ImageDataGenerator(width_shift_range=0.1, height_shift_range=0.1, zoom_range=0.2, shear_range=0.1, rotation_range=10)\n",
        "datagen.fit(train_X)"
      ]
    },
    {
      "cell_type": "markdown",
      "metadata": {
        "id": "etgVU1JlO6vT"
      },
      "source": [
        "#### One hot encoding"
      ]
    },
    {
      "cell_type": "code",
      "execution_count": null,
      "metadata": {
        "id": "7eBYqb-oO6vU"
      },
      "outputs": [],
      "source": [
        "train_y = to_categorical(train_y, data_classes)\n",
        "test_y = to_categorical(test_y, data_classes)\n",
        "valid_y = to_categorical(valid_y, data_classes)"
      ]
    },
    {
      "cell_type": "markdown",
      "metadata": {
        "id": "JncYNk_uO6vU"
      },
      "source": [
        "#### Building the model"
      ]
    },
    {
      "cell_type": "code",
      "execution_count": 2,
      "metadata": {
        "id": "hgQZS3clO6vU"
      },
      "outputs": [],
      "source": [
        "def create_model():\n",
        "  model = models.Sequential()\n",
        "\n",
        "  model.add(layers.Conv2D(32, (3, 3), activation='relu', input_shape=(32, 32, 1)))\n",
        "  model.add(layers.MaxPooling2D((2, 2)))\n",
        "  model.add(layers.Conv2D(64, (3, 3), activation='relu'))\n",
        "  model.add(layers.MaxPooling2D((2, 2)))\n",
        "  model.add(layers.Conv2D(64, (3, 3), activation='relu'))\n",
        "\n",
        "  model.add(layers.Flatten())\n",
        "  model.add(layers.Dense(64, activation='relu'))\n",
        "  model.add(layers.Dense(10, activation='softmax'))\n",
        "  model.compile(optimizer='adam',\n",
        "                loss='categorical_crossentropy',\n",
        "                metrics=['accuracy'])\n",
        "\n",
        "  return model"
      ]
    },
    {
      "cell_type": "code",
      "execution_count": 3,
      "metadata": {
        "id": "nSLZUGZ6WIFo"
      },
      "outputs": [],
      "source": [
        "def myModel():\n",
        "    model = Sequential()\n",
        "    model.add((Conv2D(60,(5,5),input_shape=(32,\n",
        "                      32,1),activation='relu')))\n",
        "    model.add((Conv2D(60, (5,5), activation='relu')))\n",
        "    model.add(MaxPooling2D(pool_size=(2,2)))\n",
        "    model.add((Conv2D(30, (3, 3), activation='relu')))\n",
        "    model.add((Conv2D(30, (3, 3), activation='relu')))\n",
        "    model.add(MaxPooling2D(pool_size=(2,2)))\n",
        "    model.add(Dropout(0.5))\n",
        "\n",
        "    model.add(Flatten())\n",
        "    model.add(Dense(500,activation='relu'))\n",
        "    model.add(Dropout(0.5))\n",
        "    model.add(Dense(10, activation='softmax'))\n",
        "\n",
        "    model.compile(Adam(lr=0.001),loss='categorical_crossentropy',metrics=['accuracy'])\n",
        "    return model"
      ]
    },
    {
      "cell_type": "code",
      "execution_count": null,
      "metadata": {
        "colab": {
          "base_uri": "https://localhost:8080/"
        },
        "id": "f8M4gzZYWfgy",
        "outputId": "ccb65ff9-47cf-4e2e-f8cf-370217c9b0a1"
      },
      "outputs": [
        {
          "name": "stderr",
          "output_type": "stream",
          "text": [
            "WARNING:absl:`lr` is deprecated in Keras optimizer, please use `learning_rate` or use the legacy optimizer, e.g.,tf.keras.optimizers.legacy.Adam.\n"
          ]
        }
      ],
      "source": [
        "model = myModel()"
      ]
    },
    {
      "cell_type": "code",
      "execution_count": null,
      "metadata": {
        "colab": {
          "base_uri": "https://localhost:8080/"
        },
        "id": "DxEB67i2O6vU",
        "outputId": "a63068b0-e6d8-4490-d4fe-0cd732dca90a"
      },
      "outputs": [
        {
          "name": "stdout",
          "output_type": "stream",
          "text": [
            "Epoch 1/40\n",
            "155/155 [==============================] - 59s 373ms/step - loss: 1.1844 - accuracy: 0.5831 - val_loss: 0.1056 - val_accuracy: 0.9694\n",
            "Epoch 2/40\n",
            "155/155 [==============================] - 57s 368ms/step - loss: 0.3572 - accuracy: 0.8850 - val_loss: 0.0890 - val_accuracy: 0.9731\n",
            "Epoch 3/40\n",
            "155/155 [==============================] - 53s 342ms/step - loss: 0.2372 - accuracy: 0.9224 - val_loss: 0.0385 - val_accuracy: 0.9876\n",
            "Epoch 4/40\n",
            "155/155 [==============================] - 57s 369ms/step - loss: 0.1888 - accuracy: 0.9386 - val_loss: 0.0275 - val_accuracy: 0.9917\n",
            "Epoch 5/40\n",
            "155/155 [==============================] - 59s 382ms/step - loss: 0.1502 - accuracy: 0.9514 - val_loss: 0.0373 - val_accuracy: 0.9907\n",
            "Epoch 6/40\n",
            "155/155 [==============================] - 60s 385ms/step - loss: 0.1411 - accuracy: 0.9562 - val_loss: 0.0247 - val_accuracy: 0.9912\n",
            "Epoch 7/40\n",
            "155/155 [==============================] - 60s 385ms/step - loss: 0.1340 - accuracy: 0.9574 - val_loss: 0.0167 - val_accuracy: 0.9953\n",
            "Epoch 8/40\n",
            "155/155 [==============================] - 59s 378ms/step - loss: 0.1130 - accuracy: 0.9661 - val_loss: 0.0147 - val_accuracy: 0.9969\n",
            "Epoch 9/40\n",
            "155/155 [==============================] - 59s 379ms/step - loss: 0.0863 - accuracy: 0.9703 - val_loss: 0.0155 - val_accuracy: 0.9943\n",
            "Epoch 10/40\n",
            "155/155 [==============================] - 57s 370ms/step - loss: 0.0937 - accuracy: 0.9709 - val_loss: 0.0151 - val_accuracy: 0.9959\n",
            "Epoch 11/40\n",
            "155/155 [==============================] - 61s 397ms/step - loss: 0.0917 - accuracy: 0.9720 - val_loss: 0.0106 - val_accuracy: 0.9964\n",
            "Epoch 12/40\n",
            "155/155 [==============================] - 57s 364ms/step - loss: 0.0933 - accuracy: 0.9718 - val_loss: 0.0168 - val_accuracy: 0.9959\n",
            "Epoch 13/40\n",
            "155/155 [==============================] - 55s 354ms/step - loss: 0.0919 - accuracy: 0.9724 - val_loss: 0.0127 - val_accuracy: 0.9969\n",
            "Epoch 14/40\n",
            "155/155 [==============================] - 54s 348ms/step - loss: 0.0836 - accuracy: 0.9740 - val_loss: 0.0138 - val_accuracy: 0.9964\n",
            "Epoch 15/40\n",
            "155/155 [==============================] - 56s 360ms/step - loss: 0.0699 - accuracy: 0.9777 - val_loss: 0.0116 - val_accuracy: 0.9979\n",
            "Epoch 16/40\n",
            "155/155 [==============================] - 55s 358ms/step - loss: 0.0704 - accuracy: 0.9775 - val_loss: 0.0135 - val_accuracy: 0.9959\n",
            "Epoch 17/40\n",
            "155/155 [==============================] - 55s 358ms/step - loss: 0.0769 - accuracy: 0.9760 - val_loss: 0.0113 - val_accuracy: 0.9974\n",
            "Epoch 18/40\n",
            "155/155 [==============================] - 53s 342ms/step - loss: 0.0722 - accuracy: 0.9784 - val_loss: 0.0143 - val_accuracy: 0.9964\n",
            "Epoch 19/40\n",
            "155/155 [==============================] - 55s 358ms/step - loss: 0.0637 - accuracy: 0.9821 - val_loss: 0.0093 - val_accuracy: 0.9969\n",
            "Epoch 20/40\n",
            "155/155 [==============================] - 56s 360ms/step - loss: 0.0740 - accuracy: 0.9766 - val_loss: 0.0099 - val_accuracy: 0.9959\n",
            "Epoch 21/40\n",
            "155/155 [==============================] - 56s 360ms/step - loss: 0.0538 - accuracy: 0.9806 - val_loss: 0.0094 - val_accuracy: 0.9979\n",
            "Epoch 22/40\n",
            "155/155 [==============================] - 57s 369ms/step - loss: 0.0598 - accuracy: 0.9817 - val_loss: 0.0222 - val_accuracy: 0.9948\n",
            "Epoch 23/40\n",
            "155/155 [==============================] - 57s 364ms/step - loss: 0.0569 - accuracy: 0.9815 - val_loss: 0.0072 - val_accuracy: 0.9979\n",
            "Epoch 24/40\n",
            "155/155 [==============================] - 56s 363ms/step - loss: 0.0648 - accuracy: 0.9786 - val_loss: 0.0044 - val_accuracy: 0.9990\n",
            "Epoch 25/40\n",
            "155/155 [==============================] - 56s 362ms/step - loss: 0.0535 - accuracy: 0.9841 - val_loss: 0.0084 - val_accuracy: 0.9959\n",
            "Epoch 26/40\n",
            "155/155 [==============================] - 57s 365ms/step - loss: 0.0574 - accuracy: 0.9823 - val_loss: 0.0118 - val_accuracy: 0.9979\n",
            "Epoch 27/40\n",
            "155/155 [==============================] - 58s 377ms/step - loss: 0.0484 - accuracy: 0.9821 - val_loss: 0.0070 - val_accuracy: 0.9979\n",
            "Epoch 28/40\n",
            "155/155 [==============================] - 56s 360ms/step - loss: 0.0535 - accuracy: 0.9832 - val_loss: 0.0081 - val_accuracy: 0.9969\n",
            "Epoch 29/40\n",
            "155/155 [==============================] - 58s 372ms/step - loss: 0.0519 - accuracy: 0.9843 - val_loss: 0.0079 - val_accuracy: 0.9974\n",
            "Epoch 30/40\n",
            "155/155 [==============================] - 59s 382ms/step - loss: 0.0472 - accuracy: 0.9846 - val_loss: 0.0125 - val_accuracy: 0.9959\n",
            "Epoch 31/40\n",
            "155/155 [==============================] - 57s 367ms/step - loss: 0.0434 - accuracy: 0.9856 - val_loss: 0.0173 - val_accuracy: 0.9959\n",
            "Epoch 32/40\n",
            "155/155 [==============================] - 60s 384ms/step - loss: 0.0426 - accuracy: 0.9859 - val_loss: 0.0107 - val_accuracy: 0.9969\n",
            "Epoch 33/40\n",
            "155/155 [==============================] - 58s 372ms/step - loss: 0.0505 - accuracy: 0.9851 - val_loss: 0.0074 - val_accuracy: 0.9990\n",
            "Epoch 34/40\n",
            "155/155 [==============================] - 57s 367ms/step - loss: 0.0457 - accuracy: 0.9863 - val_loss: 0.0149 - val_accuracy: 0.9964\n",
            "Epoch 35/40\n",
            "155/155 [==============================] - 60s 384ms/step - loss: 0.0423 - accuracy: 0.9859 - val_loss: 0.0047 - val_accuracy: 0.9990\n",
            "Epoch 36/40\n",
            "155/155 [==============================] - 59s 381ms/step - loss: 0.0466 - accuracy: 0.9864 - val_loss: 0.0079 - val_accuracy: 0.9979\n",
            "Epoch 37/40\n",
            "155/155 [==============================] - 59s 381ms/step - loss: 0.0334 - accuracy: 0.9900 - val_loss: 0.0042 - val_accuracy: 0.9979\n",
            "Epoch 38/40\n",
            "155/155 [==============================] - 57s 368ms/step - loss: 0.0517 - accuracy: 0.9846 - val_loss: 0.0084 - val_accuracy: 0.9974\n",
            "Epoch 39/40\n",
            "155/155 [==============================] - 58s 376ms/step - loss: 0.0453 - accuracy: 0.9863 - val_loss: 0.0073 - val_accuracy: 0.9979\n",
            "Epoch 40/40\n",
            "155/155 [==============================] - 58s 377ms/step - loss: 0.0350 - accuracy: 0.9890 - val_loss: 0.0053 - val_accuracy: 0.9979\n"
          ]
        }
      ],
      "source": [
        "history = model.fit(datagen.flow(train_X , train_y,\n",
        "                                 batch_size=50),\n",
        "                                 epochs=40,\n",
        "                                 validation_data=(valid_X,valid_y),\n",
        "                                 shuffle=1)"
      ]
    },
    {
      "cell_type": "code",
      "execution_count": null,
      "metadata": {
        "colab": {
          "base_uri": "https://localhost:8080/",
          "height": 449
        },
        "id": "3mBPnx6ZUqb3",
        "outputId": "17969b67-bfc2-403f-b641-48059de51425"
      },
      "outputs": [
        {
          "data": {
            "image/png": "[encoded data removed]",
            "text/plain": [
              "<Figure size 640x480 with 1 Axes>"
            ]
          },
          "metadata": {},
          "output_type": "display_data"
        }
      ],
      "source": [
        "plt.plot(history.history['val_accuracy'], label='valid')\n",
        "plt.plot(history.history['accuracy'], label='train')\n",
        "plt.xlabel('epochs')\n",
        "plt.ylabel('accuracy')\n",
        "plt.legend()\n",
        "plt.show()"
      ]
    },
    {
      "cell_type": "code",
      "execution_count": null,
      "metadata": {
        "colab": {
          "base_uri": "https://localhost:8080/"
        },
        "id": "ZiBg5DKgO6vV",
        "outputId": "9a3cb569-9fb7-4214-e2fc-16942ed5f757"
      },
      "outputs": [
        {
          "name": "stdout",
          "output_type": "stream",
          "text": [
            "16/16 [==============================] - 1s 56ms/step - loss: 0.0160 - accuracy: 0.9941\n",
            "Test Loss: 0.015987135469913483\n",
            "Test Accuracy: 0.994106113910675\n"
          ]
        }
      ],
      "source": [
        "test_loss, test_acc = model.evaluate(test_X, test_y)\n",
        "print(f'Test Loss: {test_loss}')\n",
        "print(f'Test Accuracy: {test_acc}')"
      ]
    },
    {
      "cell_type": "code",
      "execution_count": null,
      "metadata": {
        "colab": {
          "base_uri": "https://localhost:8080/"
        },
        "id": "LD9yilRTO6vV",
        "outputId": "0f356a37-ca80-48e4-9d14-3d69c9179626"
      },
      "outputs": [
        {
          "name": "stderr",
          "output_type": "stream",
          "text": [
            "/usr/local/lib/python3.10/dist-packages/keras/src/engine/training.py:3103: UserWarning: You are saving your model as an HDF5 file via `model.save()`. This file format is considered legacy. We recommend using instead the native Keras format, e.g. `model.save('my_model.keras')`.\n",
            "  saving_api.save_model(\n"
          ]
        }
      ],
      "source": [
        "model.save('/content/drive/MyDrive/Character_Recognition/model4.h5')\n",
        "# print('model saved')"
      ]
    },
    {
      "cell_type": "code",
      "execution_count": null,
      "metadata": {
        "id": "QsY8MRCLO6vV"
      },
      "outputs": [],
      "source": [
        "model = models.load_model('model.h5')"
      ]
    }
  ],
  "metadata": {
    "accelerator": "GPU",
    "colab": {
      "gpuType": "T4",
      "provenance": []
    },
    "kernelspec": {
      "display_name": "Python 3",
      "name": "python3"
    },
    "language_info": {
      "codemirror_mode": {
        "name": "ipython",
        "version": 3
      },
      "file_extension": ".py",
      "mimetype": "text/x-python",
      "name": "python",
      "nbconvert_exporter": "python",
      "pygments_lexer": "ipython3",
      "version": "3.11.3"
    }
  },
  "nbformat": 4,
  "nbformat_minor": 0
}
